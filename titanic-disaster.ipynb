{
 "cells": [
  {
   "cell_type": "code",
   "execution_count": 1,
   "id": "broadband-patch",
   "metadata": {
    "execution": {
     "iopub.execute_input": "2021-05-23T06:40:35.693751Z",
     "iopub.status.busy": "2021-05-23T06:40:35.693111Z",
     "iopub.status.idle": "2021-05-23T06:40:37.579084Z",
     "shell.execute_reply": "2021-05-23T06:40:37.578259Z",
     "shell.execute_reply.started": "2021-05-23T06:36:46.722461Z"
    },
    "papermill": {
     "duration": 1.910965,
     "end_time": "2021-05-23T06:40:37.579268",
     "exception": false,
     "start_time": "2021-05-23T06:40:35.668303",
     "status": "completed"
    },
    "tags": []
   },
   "outputs": [],
   "source": [
    "import numpy as np\n",
    "import pandas as pd\n",
    "\n",
    "import seaborn as sns\n",
    "import matplotlib.pyplot as plt\n",
    "\n",
    "import statsmodels.api as sm\n",
    "from scipy import stats\n",
    "stats.chisqprob = lambda chisq, df: stats.chi2.sf(chisq, df)\n",
    "import warnings\n",
    "warnings.filterwarnings('ignore')"
   ]
  },
  {
   "cell_type": "markdown",
   "id": "considered-swaziland",
   "metadata": {
    "papermill": {
     "duration": 0.018039,
     "end_time": "2021-05-23T06:40:37.615160",
     "exception": false,
     "start_time": "2021-05-23T06:40:37.597121",
     "status": "completed"
    },
    "tags": []
   },
   "source": [
    "# Load data"
   ]
  },
  {
   "cell_type": "code",
   "execution_count": 2,
   "id": "guilty-branch",
   "metadata": {
    "execution": {
     "iopub.execute_input": "2021-05-23T06:40:37.656177Z",
     "iopub.status.busy": "2021-05-23T06:40:37.655511Z",
     "iopub.status.idle": "2021-05-23T06:40:37.721233Z",
     "shell.execute_reply": "2021-05-23T06:40:37.720714Z",
     "shell.execute_reply.started": "2021-05-23T06:36:51.115087Z"
    },
    "papermill": {
     "duration": 0.087902,
     "end_time": "2021-05-23T06:40:37.721384",
     "exception": false,
     "start_time": "2021-05-23T06:40:37.633482",
     "status": "completed"
    },
    "tags": []
   },
   "outputs": [
    {
     "data": {
      "text/html": [
       "<div>\n",
       "<style scoped>\n",
       "    .dataframe tbody tr th:only-of-type {\n",
       "        vertical-align: middle;\n",
       "    }\n",
       "\n",
       "    .dataframe tbody tr th {\n",
       "        vertical-align: top;\n",
       "    }\n",
       "\n",
       "    .dataframe thead th {\n",
       "        text-align: right;\n",
       "    }\n",
       "</style>\n",
       "<table border=\"1\" class=\"dataframe\">\n",
       "  <thead>\n",
       "    <tr style=\"text-align: right;\">\n",
       "      <th></th>\n",
       "      <th>PassengerId</th>\n",
       "      <th>Survived</th>\n",
       "      <th>Pclass</th>\n",
       "      <th>Name</th>\n",
       "      <th>Sex</th>\n",
       "      <th>Age</th>\n",
       "      <th>SibSp</th>\n",
       "      <th>Parch</th>\n",
       "      <th>Ticket</th>\n",
       "      <th>Fare</th>\n",
       "      <th>Cabin</th>\n",
       "      <th>Embarked</th>\n",
       "    </tr>\n",
       "  </thead>\n",
       "  <tbody>\n",
       "    <tr>\n",
       "      <th>0</th>\n",
       "      <td>1</td>\n",
       "      <td>0</td>\n",
       "      <td>3</td>\n",
       "      <td>Braund, Mr. Owen Harris</td>\n",
       "      <td>male</td>\n",
       "      <td>22.0</td>\n",
       "      <td>1</td>\n",
       "      <td>0</td>\n",
       "      <td>A/5 21171</td>\n",
       "      <td>7.2500</td>\n",
       "      <td>NaN</td>\n",
       "      <td>S</td>\n",
       "    </tr>\n",
       "    <tr>\n",
       "      <th>1</th>\n",
       "      <td>2</td>\n",
       "      <td>1</td>\n",
       "      <td>1</td>\n",
       "      <td>Cumings, Mrs. John Bradley (Florence Briggs Th...</td>\n",
       "      <td>female</td>\n",
       "      <td>38.0</td>\n",
       "      <td>1</td>\n",
       "      <td>0</td>\n",
       "      <td>PC 17599</td>\n",
       "      <td>71.2833</td>\n",
       "      <td>C85</td>\n",
       "      <td>C</td>\n",
       "    </tr>\n",
       "    <tr>\n",
       "      <th>2</th>\n",
       "      <td>3</td>\n",
       "      <td>1</td>\n",
       "      <td>3</td>\n",
       "      <td>Heikkinen, Miss. Laina</td>\n",
       "      <td>female</td>\n",
       "      <td>26.0</td>\n",
       "      <td>0</td>\n",
       "      <td>0</td>\n",
       "      <td>STON/O2. 3101282</td>\n",
       "      <td>7.9250</td>\n",
       "      <td>NaN</td>\n",
       "      <td>S</td>\n",
       "    </tr>\n",
       "    <tr>\n",
       "      <th>3</th>\n",
       "      <td>4</td>\n",
       "      <td>1</td>\n",
       "      <td>1</td>\n",
       "      <td>Futrelle, Mrs. Jacques Heath (Lily May Peel)</td>\n",
       "      <td>female</td>\n",
       "      <td>35.0</td>\n",
       "      <td>1</td>\n",
       "      <td>0</td>\n",
       "      <td>113803</td>\n",
       "      <td>53.1000</td>\n",
       "      <td>C123</td>\n",
       "      <td>S</td>\n",
       "    </tr>\n",
       "    <tr>\n",
       "      <th>4</th>\n",
       "      <td>5</td>\n",
       "      <td>0</td>\n",
       "      <td>3</td>\n",
       "      <td>Allen, Mr. William Henry</td>\n",
       "      <td>male</td>\n",
       "      <td>35.0</td>\n",
       "      <td>0</td>\n",
       "      <td>0</td>\n",
       "      <td>373450</td>\n",
       "      <td>8.0500</td>\n",
       "      <td>NaN</td>\n",
       "      <td>S</td>\n",
       "    </tr>\n",
       "  </tbody>\n",
       "</table>\n",
       "</div>"
      ],
      "text/plain": [
       "   PassengerId  Survived  Pclass  \\\n",
       "0            1         0       3   \n",
       "1            2         1       1   \n",
       "2            3         1       3   \n",
       "3            4         1       1   \n",
       "4            5         0       3   \n",
       "\n",
       "                                                Name     Sex   Age  SibSp  \\\n",
       "0                            Braund, Mr. Owen Harris    male  22.0      1   \n",
       "1  Cumings, Mrs. John Bradley (Florence Briggs Th...  female  38.0      1   \n",
       "2                             Heikkinen, Miss. Laina  female  26.0      0   \n",
       "3       Futrelle, Mrs. Jacques Heath (Lily May Peel)  female  35.0      1   \n",
       "4                           Allen, Mr. William Henry    male  35.0      0   \n",
       "\n",
       "   Parch            Ticket     Fare Cabin Embarked  \n",
       "0      0         A/5 21171   7.2500   NaN        S  \n",
       "1      0          PC 17599  71.2833   C85        C  \n",
       "2      0  STON/O2. 3101282   7.9250   NaN        S  \n",
       "3      0            113803  53.1000  C123        S  \n",
       "4      0            373450   8.0500   NaN        S  "
      ]
     },
     "execution_count": 2,
     "metadata": {},
     "output_type": "execute_result"
    }
   ],
   "source": [
    "train_set = pd.read_csv('../input/titanic/train.csv')\n",
    "test_set = pd.read_csv('../input/titanic/test.csv')\n",
    "ID = test_set['PassengerId']\n",
    "train_set.head()"
   ]
  },
  {
   "cell_type": "code",
   "execution_count": 3,
   "id": "interracial-england",
   "metadata": {
    "execution": {
     "iopub.execute_input": "2021-05-23T06:40:37.777965Z",
     "iopub.status.busy": "2021-05-23T06:40:37.776861Z",
     "iopub.status.idle": "2021-05-23T06:40:37.781176Z",
     "shell.execute_reply": "2021-05-23T06:40:37.780665Z",
     "shell.execute_reply.started": "2021-05-23T06:36:56.647329Z"
    },
    "papermill": {
     "duration": 0.040597,
     "end_time": "2021-05-23T06:40:37.781320",
     "exception": false,
     "start_time": "2021-05-23T06:40:37.740723",
     "status": "completed"
    },
    "tags": []
   },
   "outputs": [
    {
     "data": {
      "text/html": [
       "<div>\n",
       "<style scoped>\n",
       "    .dataframe tbody tr th:only-of-type {\n",
       "        vertical-align: middle;\n",
       "    }\n",
       "\n",
       "    .dataframe tbody tr th {\n",
       "        vertical-align: top;\n",
       "    }\n",
       "\n",
       "    .dataframe thead th {\n",
       "        text-align: right;\n",
       "    }\n",
       "</style>\n",
       "<table border=\"1\" class=\"dataframe\">\n",
       "  <thead>\n",
       "    <tr style=\"text-align: right;\">\n",
       "      <th></th>\n",
       "      <th>PassengerId</th>\n",
       "      <th>Pclass</th>\n",
       "      <th>Name</th>\n",
       "      <th>Sex</th>\n",
       "      <th>Age</th>\n",
       "      <th>SibSp</th>\n",
       "      <th>Parch</th>\n",
       "      <th>Ticket</th>\n",
       "      <th>Fare</th>\n",
       "      <th>Cabin</th>\n",
       "      <th>Embarked</th>\n",
       "    </tr>\n",
       "  </thead>\n",
       "  <tbody>\n",
       "    <tr>\n",
       "      <th>0</th>\n",
       "      <td>892</td>\n",
       "      <td>3</td>\n",
       "      <td>Kelly, Mr. James</td>\n",
       "      <td>male</td>\n",
       "      <td>34.5</td>\n",
       "      <td>0</td>\n",
       "      <td>0</td>\n",
       "      <td>330911</td>\n",
       "      <td>7.8292</td>\n",
       "      <td>NaN</td>\n",
       "      <td>Q</td>\n",
       "    </tr>\n",
       "    <tr>\n",
       "      <th>1</th>\n",
       "      <td>893</td>\n",
       "      <td>3</td>\n",
       "      <td>Wilkes, Mrs. James (Ellen Needs)</td>\n",
       "      <td>female</td>\n",
       "      <td>47.0</td>\n",
       "      <td>1</td>\n",
       "      <td>0</td>\n",
       "      <td>363272</td>\n",
       "      <td>7.0000</td>\n",
       "      <td>NaN</td>\n",
       "      <td>S</td>\n",
       "    </tr>\n",
       "    <tr>\n",
       "      <th>2</th>\n",
       "      <td>894</td>\n",
       "      <td>2</td>\n",
       "      <td>Myles, Mr. Thomas Francis</td>\n",
       "      <td>male</td>\n",
       "      <td>62.0</td>\n",
       "      <td>0</td>\n",
       "      <td>0</td>\n",
       "      <td>240276</td>\n",
       "      <td>9.6875</td>\n",
       "      <td>NaN</td>\n",
       "      <td>Q</td>\n",
       "    </tr>\n",
       "    <tr>\n",
       "      <th>3</th>\n",
       "      <td>895</td>\n",
       "      <td>3</td>\n",
       "      <td>Wirz, Mr. Albert</td>\n",
       "      <td>male</td>\n",
       "      <td>27.0</td>\n",
       "      <td>0</td>\n",
       "      <td>0</td>\n",
       "      <td>315154</td>\n",
       "      <td>8.6625</td>\n",
       "      <td>NaN</td>\n",
       "      <td>S</td>\n",
       "    </tr>\n",
       "    <tr>\n",
       "      <th>4</th>\n",
       "      <td>896</td>\n",
       "      <td>3</td>\n",
       "      <td>Hirvonen, Mrs. Alexander (Helga E Lindqvist)</td>\n",
       "      <td>female</td>\n",
       "      <td>22.0</td>\n",
       "      <td>1</td>\n",
       "      <td>1</td>\n",
       "      <td>3101298</td>\n",
       "      <td>12.2875</td>\n",
       "      <td>NaN</td>\n",
       "      <td>S</td>\n",
       "    </tr>\n",
       "  </tbody>\n",
       "</table>\n",
       "</div>"
      ],
      "text/plain": [
       "   PassengerId  Pclass                                          Name     Sex  \\\n",
       "0          892       3                              Kelly, Mr. James    male   \n",
       "1          893       3              Wilkes, Mrs. James (Ellen Needs)  female   \n",
       "2          894       2                     Myles, Mr. Thomas Francis    male   \n",
       "3          895       3                              Wirz, Mr. Albert    male   \n",
       "4          896       3  Hirvonen, Mrs. Alexander (Helga E Lindqvist)  female   \n",
       "\n",
       "    Age  SibSp  Parch   Ticket     Fare Cabin Embarked  \n",
       "0  34.5      0      0   330911   7.8292   NaN        Q  \n",
       "1  47.0      1      0   363272   7.0000   NaN        S  \n",
       "2  62.0      0      0   240276   9.6875   NaN        Q  \n",
       "3  27.0      0      0   315154   8.6625   NaN        S  \n",
       "4  22.0      1      1  3101298  12.2875   NaN        S  "
      ]
     },
     "execution_count": 3,
     "metadata": {},
     "output_type": "execute_result"
    }
   ],
   "source": [
    "test_set.head()"
   ]
  },
  {
   "cell_type": "code",
   "execution_count": 4,
   "id": "european-india",
   "metadata": {
    "execution": {
     "iopub.execute_input": "2021-05-23T06:40:37.827701Z",
     "iopub.status.busy": "2021-05-23T06:40:37.823789Z",
     "iopub.status.idle": "2021-05-23T06:40:37.856452Z",
     "shell.execute_reply": "2021-05-23T06:40:37.855784Z"
    },
    "papermill": {
     "duration": 0.056695,
     "end_time": "2021-05-23T06:40:37.856595",
     "exception": false,
     "start_time": "2021-05-23T06:40:37.799900",
     "status": "completed"
    },
    "tags": []
   },
   "outputs": [
    {
     "data": {
      "text/html": [
       "<div>\n",
       "<style scoped>\n",
       "    .dataframe tbody tr th:only-of-type {\n",
       "        vertical-align: middle;\n",
       "    }\n",
       "\n",
       "    .dataframe tbody tr th {\n",
       "        vertical-align: top;\n",
       "    }\n",
       "\n",
       "    .dataframe thead th {\n",
       "        text-align: right;\n",
       "    }\n",
       "</style>\n",
       "<table border=\"1\" class=\"dataframe\">\n",
       "  <thead>\n",
       "    <tr style=\"text-align: right;\">\n",
       "      <th></th>\n",
       "      <th>PassengerId</th>\n",
       "      <th>Survived</th>\n",
       "      <th>Pclass</th>\n",
       "      <th>Age</th>\n",
       "      <th>SibSp</th>\n",
       "      <th>Parch</th>\n",
       "      <th>Fare</th>\n",
       "    </tr>\n",
       "  </thead>\n",
       "  <tbody>\n",
       "    <tr>\n",
       "      <th>count</th>\n",
       "      <td>891.000000</td>\n",
       "      <td>891.000000</td>\n",
       "      <td>891.000000</td>\n",
       "      <td>714.000000</td>\n",
       "      <td>891.000000</td>\n",
       "      <td>891.000000</td>\n",
       "      <td>891.000000</td>\n",
       "    </tr>\n",
       "    <tr>\n",
       "      <th>mean</th>\n",
       "      <td>446.000000</td>\n",
       "      <td>0.383838</td>\n",
       "      <td>2.308642</td>\n",
       "      <td>29.699118</td>\n",
       "      <td>0.523008</td>\n",
       "      <td>0.381594</td>\n",
       "      <td>32.204208</td>\n",
       "    </tr>\n",
       "    <tr>\n",
       "      <th>std</th>\n",
       "      <td>257.353842</td>\n",
       "      <td>0.486592</td>\n",
       "      <td>0.836071</td>\n",
       "      <td>14.526497</td>\n",
       "      <td>1.102743</td>\n",
       "      <td>0.806057</td>\n",
       "      <td>49.693429</td>\n",
       "    </tr>\n",
       "    <tr>\n",
       "      <th>min</th>\n",
       "      <td>1.000000</td>\n",
       "      <td>0.000000</td>\n",
       "      <td>1.000000</td>\n",
       "      <td>0.420000</td>\n",
       "      <td>0.000000</td>\n",
       "      <td>0.000000</td>\n",
       "      <td>0.000000</td>\n",
       "    </tr>\n",
       "    <tr>\n",
       "      <th>25%</th>\n",
       "      <td>223.500000</td>\n",
       "      <td>0.000000</td>\n",
       "      <td>2.000000</td>\n",
       "      <td>20.125000</td>\n",
       "      <td>0.000000</td>\n",
       "      <td>0.000000</td>\n",
       "      <td>7.910400</td>\n",
       "    </tr>\n",
       "    <tr>\n",
       "      <th>50%</th>\n",
       "      <td>446.000000</td>\n",
       "      <td>0.000000</td>\n",
       "      <td>3.000000</td>\n",
       "      <td>28.000000</td>\n",
       "      <td>0.000000</td>\n",
       "      <td>0.000000</td>\n",
       "      <td>14.454200</td>\n",
       "    </tr>\n",
       "    <tr>\n",
       "      <th>75%</th>\n",
       "      <td>668.500000</td>\n",
       "      <td>1.000000</td>\n",
       "      <td>3.000000</td>\n",
       "      <td>38.000000</td>\n",
       "      <td>1.000000</td>\n",
       "      <td>0.000000</td>\n",
       "      <td>31.000000</td>\n",
       "    </tr>\n",
       "    <tr>\n",
       "      <th>max</th>\n",
       "      <td>891.000000</td>\n",
       "      <td>1.000000</td>\n",
       "      <td>3.000000</td>\n",
       "      <td>80.000000</td>\n",
       "      <td>8.000000</td>\n",
       "      <td>6.000000</td>\n",
       "      <td>512.329200</td>\n",
       "    </tr>\n",
       "  </tbody>\n",
       "</table>\n",
       "</div>"
      ],
      "text/plain": [
       "       PassengerId    Survived      Pclass         Age       SibSp  \\\n",
       "count   891.000000  891.000000  891.000000  714.000000  891.000000   \n",
       "mean    446.000000    0.383838    2.308642   29.699118    0.523008   \n",
       "std     257.353842    0.486592    0.836071   14.526497    1.102743   \n",
       "min       1.000000    0.000000    1.000000    0.420000    0.000000   \n",
       "25%     223.500000    0.000000    2.000000   20.125000    0.000000   \n",
       "50%     446.000000    0.000000    3.000000   28.000000    0.000000   \n",
       "75%     668.500000    1.000000    3.000000   38.000000    1.000000   \n",
       "max     891.000000    1.000000    3.000000   80.000000    8.000000   \n",
       "\n",
       "            Parch        Fare  \n",
       "count  891.000000  891.000000  \n",
       "mean     0.381594   32.204208  \n",
       "std      0.806057   49.693429  \n",
       "min      0.000000    0.000000  \n",
       "25%      0.000000    7.910400  \n",
       "50%      0.000000   14.454200  \n",
       "75%      0.000000   31.000000  \n",
       "max      6.000000  512.329200  "
      ]
     },
     "execution_count": 4,
     "metadata": {},
     "output_type": "execute_result"
    }
   ],
   "source": [
    "train_set.describe()"
   ]
  },
  {
   "cell_type": "code",
   "execution_count": 5,
   "id": "reserved-hawaiian",
   "metadata": {
    "execution": {
     "iopub.execute_input": "2021-05-23T06:40:37.912875Z",
     "iopub.status.busy": "2021-05-23T06:40:37.911825Z",
     "iopub.status.idle": "2021-05-23T06:40:37.916701Z",
     "shell.execute_reply": "2021-05-23T06:40:37.916193Z",
     "shell.execute_reply.started": "2021-05-23T06:37:03.938734Z"
    },
    "papermill": {
     "duration": 0.041096,
     "end_time": "2021-05-23T06:40:37.916873",
     "exception": false,
     "start_time": "2021-05-23T06:40:37.875777",
     "status": "completed"
    },
    "tags": []
   },
   "outputs": [
    {
     "data": {
      "text/html": [
       "<div>\n",
       "<style scoped>\n",
       "    .dataframe tbody tr th:only-of-type {\n",
       "        vertical-align: middle;\n",
       "    }\n",
       "\n",
       "    .dataframe tbody tr th {\n",
       "        vertical-align: top;\n",
       "    }\n",
       "\n",
       "    .dataframe thead th {\n",
       "        text-align: right;\n",
       "    }\n",
       "</style>\n",
       "<table border=\"1\" class=\"dataframe\">\n",
       "  <thead>\n",
       "    <tr style=\"text-align: right;\">\n",
       "      <th></th>\n",
       "      <th>Survived</th>\n",
       "      <th>Pclass</th>\n",
       "      <th>Sex</th>\n",
       "      <th>Age</th>\n",
       "      <th>SibSp</th>\n",
       "      <th>Parch</th>\n",
       "      <th>Fare</th>\n",
       "      <th>Embarked</th>\n",
       "    </tr>\n",
       "  </thead>\n",
       "  <tbody>\n",
       "    <tr>\n",
       "      <th>0</th>\n",
       "      <td>0</td>\n",
       "      <td>3</td>\n",
       "      <td>male</td>\n",
       "      <td>22.0</td>\n",
       "      <td>1</td>\n",
       "      <td>0</td>\n",
       "      <td>7.2500</td>\n",
       "      <td>S</td>\n",
       "    </tr>\n",
       "    <tr>\n",
       "      <th>1</th>\n",
       "      <td>1</td>\n",
       "      <td>1</td>\n",
       "      <td>female</td>\n",
       "      <td>38.0</td>\n",
       "      <td>1</td>\n",
       "      <td>0</td>\n",
       "      <td>71.2833</td>\n",
       "      <td>C</td>\n",
       "    </tr>\n",
       "    <tr>\n",
       "      <th>2</th>\n",
       "      <td>1</td>\n",
       "      <td>3</td>\n",
       "      <td>female</td>\n",
       "      <td>26.0</td>\n",
       "      <td>0</td>\n",
       "      <td>0</td>\n",
       "      <td>7.9250</td>\n",
       "      <td>S</td>\n",
       "    </tr>\n",
       "    <tr>\n",
       "      <th>3</th>\n",
       "      <td>1</td>\n",
       "      <td>1</td>\n",
       "      <td>female</td>\n",
       "      <td>35.0</td>\n",
       "      <td>1</td>\n",
       "      <td>0</td>\n",
       "      <td>53.1000</td>\n",
       "      <td>S</td>\n",
       "    </tr>\n",
       "    <tr>\n",
       "      <th>4</th>\n",
       "      <td>0</td>\n",
       "      <td>3</td>\n",
       "      <td>male</td>\n",
       "      <td>35.0</td>\n",
       "      <td>0</td>\n",
       "      <td>0</td>\n",
       "      <td>8.0500</td>\n",
       "      <td>S</td>\n",
       "    </tr>\n",
       "  </tbody>\n",
       "</table>\n",
       "</div>"
      ],
      "text/plain": [
       "   Survived  Pclass     Sex   Age  SibSp  Parch     Fare Embarked\n",
       "0         0       3    male  22.0      1      0   7.2500        S\n",
       "1         1       1  female  38.0      1      0  71.2833        C\n",
       "2         1       3  female  26.0      0      0   7.9250        S\n",
       "3         1       1  female  35.0      1      0  53.1000        S\n",
       "4         0       3    male  35.0      0      0   8.0500        S"
      ]
     },
     "execution_count": 5,
     "metadata": {},
     "output_type": "execute_result"
    }
   ],
   "source": [
    "#drop columns not usepassanger_id = data_test['PassengerId']\n",
    "train_set = train_set.drop(['PassengerId', 'Ticket','Name','Cabin'], axis=1)\n",
    "test_set = test_set.drop(['PassengerId', 'Ticket','Name','Cabin'], axis=1)\n",
    "train_set.head()"
   ]
  },
  {
   "cell_type": "markdown",
   "id": "understood-fancy",
   "metadata": {
    "papermill": {
     "duration": 0.019868,
     "end_time": "2021-05-23T06:40:37.956895",
     "exception": false,
     "start_time": "2021-05-23T06:40:37.937027",
     "status": "completed"
    },
    "tags": []
   },
   "source": [
    "# Explore tha data"
   ]
  },
  {
   "cell_type": "markdown",
   "id": "compliant-access",
   "metadata": {
    "papermill": {
     "duration": 0.020775,
     "end_time": "2021-05-23T06:40:37.997895",
     "exception": false,
     "start_time": "2021-05-23T06:40:37.977120",
     "status": "completed"
    },
    "tags": []
   },
   "source": [
    "I will use box plot to select feature."
   ]
  },
  {
   "cell_type": "code",
   "execution_count": 6,
   "id": "serious-october",
   "metadata": {
    "execution": {
     "iopub.execute_input": "2021-05-23T06:40:38.048969Z",
     "iopub.status.busy": "2021-05-23T06:40:38.048237Z",
     "iopub.status.idle": "2021-05-23T06:40:39.372094Z",
     "shell.execute_reply": "2021-05-23T06:40:39.372565Z",
     "shell.execute_reply.started": "2021-05-23T06:37:06.917701Z"
    },
    "papermill": {
     "duration": 1.35409,
     "end_time": "2021-05-23T06:40:39.372758",
     "exception": false,
     "start_time": "2021-05-23T06:40:38.018668",
     "status": "completed"
    },
    "tags": []
   },
   "outputs": [
    {
     "data": {
      "image/png": "[encoded data removed]",
      "text/plain": [
       "<Figure size 432x288 with 1 Axes>"
      ]
     },
     "metadata": {},
     "output_type": "display_data"
    },
    {
     "data": {
      "image/png": "[encoded data removed]",
      "text/plain": [
       "<Figure size 432x288 with 1 Axes>"
      ]
     },
     "metadata": {},
     "output_type": "display_data"
    },
    {
     "data": {
      "image/png": "[encoded data removed]",
      "text/plain": [
       "<Figure size 432x288 with 1 Axes>"
      ]
     },
     "metadata": {},
     "output_type": "display_data"
    },
    {
     "data": {
      "image/png": "[encoded data removed]",
      "text/plain": [
       "<Figure size 432x288 with 1 Axes>"
      ]
     },
     "metadata": {},
     "output_type": "display_data"
    },
    {
     "data": {
      "image/png": "[encoded data removed]",
      "text/plain": [
       "<Figure size 432x288 with 1 Axes>"
      ]
     },
     "metadata": {},
     "output_type": "display_data"
    },
    {
     "data": {
      "image/png": "[encoded data removed]",
      "text/plain": [
       "<Figure size 432x288 with 1 Axes>"
      ]
     },
     "metadata": {},
     "output_type": "display_data"
    },
    {
     "data": {
      "image/png": "[encoded data removed]",
      "text/plain": [
       "<Figure size 432x288 with 1 Axes>"
      ]
     },
     "metadata": {},
     "output_type": "display_data"
    }
   ],
   "source": [
    "def plot_box(data, cols, col_x = 'Survived'):\n",
    "    for col in cols:\n",
    "        sns.set_style(\"whitegrid\")\n",
    "        sns.boxplot(col_x, col, data=data)\n",
    "        plt.xlabel(col_x) # Set text for the x axis\n",
    "        plt.ylabel(col)# Set text for y axis\n",
    "        plt.show()\n",
    "        \n",
    "num_cols = ['Pclass','Sex','Age','Fare','Embarked','Parch', 'Fare']\n",
    "plot_box(train_set, num_cols)"
   ]
  },
  {
   "cell_type": "markdown",
   "id": "tropical-charlotte",
   "metadata": {
    "papermill": {
     "duration": 0.02397,
     "end_time": "2021-05-23T06:40:39.421902",
     "exception": false,
     "start_time": "2021-05-23T06:40:39.397932",
     "status": "completed"
    },
    "tags": []
   },
   "source": [
    "From box plot, I selected 'Pclass','Sex','Age','Fare','Sibsp','Parch'"
   ]
  },
  {
   "cell_type": "code",
   "execution_count": 7,
   "id": "different-thursday",
   "metadata": {
    "execution": {
     "iopub.execute_input": "2021-05-23T06:40:39.487680Z",
     "iopub.status.busy": "2021-05-23T06:40:39.478606Z",
     "iopub.status.idle": "2021-05-23T06:40:39.491918Z",
     "shell.execute_reply": "2021-05-23T06:40:39.491257Z",
     "shell.execute_reply.started": "2021-05-23T06:37:11.614421Z"
    },
    "papermill": {
     "duration": 0.045342,
     "end_time": "2021-05-23T06:40:39.492064",
     "exception": false,
     "start_time": "2021-05-23T06:40:39.446722",
     "status": "completed"
    },
    "tags": []
   },
   "outputs": [
    {
     "data": {
      "text/html": [
       "<div>\n",
       "<style scoped>\n",
       "    .dataframe tbody tr th:only-of-type {\n",
       "        vertical-align: middle;\n",
       "    }\n",
       "\n",
       "    .dataframe tbody tr th {\n",
       "        vertical-align: top;\n",
       "    }\n",
       "\n",
       "    .dataframe thead th {\n",
       "        text-align: right;\n",
       "    }\n",
       "</style>\n",
       "<table border=\"1\" class=\"dataframe\">\n",
       "  <thead>\n",
       "    <tr style=\"text-align: right;\">\n",
       "      <th></th>\n",
       "      <th>Survived</th>\n",
       "      <th>Pclass</th>\n",
       "      <th>Sex</th>\n",
       "      <th>Age</th>\n",
       "      <th>SibSp</th>\n",
       "      <th>Parch</th>\n",
       "      <th>Fare</th>\n",
       "    </tr>\n",
       "  </thead>\n",
       "  <tbody>\n",
       "    <tr>\n",
       "      <th>0</th>\n",
       "      <td>0</td>\n",
       "      <td>3</td>\n",
       "      <td>male</td>\n",
       "      <td>22.0</td>\n",
       "      <td>1</td>\n",
       "      <td>0</td>\n",
       "      <td>7.2500</td>\n",
       "    </tr>\n",
       "    <tr>\n",
       "      <th>1</th>\n",
       "      <td>1</td>\n",
       "      <td>1</td>\n",
       "      <td>female</td>\n",
       "      <td>38.0</td>\n",
       "      <td>1</td>\n",
       "      <td>0</td>\n",
       "      <td>71.2833</td>\n",
       "    </tr>\n",
       "    <tr>\n",
       "      <th>2</th>\n",
       "      <td>1</td>\n",
       "      <td>3</td>\n",
       "      <td>female</td>\n",
       "      <td>26.0</td>\n",
       "      <td>0</td>\n",
       "      <td>0</td>\n",
       "      <td>7.9250</td>\n",
       "    </tr>\n",
       "    <tr>\n",
       "      <th>3</th>\n",
       "      <td>1</td>\n",
       "      <td>1</td>\n",
       "      <td>female</td>\n",
       "      <td>35.0</td>\n",
       "      <td>1</td>\n",
       "      <td>0</td>\n",
       "      <td>53.1000</td>\n",
       "    </tr>\n",
       "    <tr>\n",
       "      <th>4</th>\n",
       "      <td>0</td>\n",
       "      <td>3</td>\n",
       "      <td>male</td>\n",
       "      <td>35.0</td>\n",
       "      <td>0</td>\n",
       "      <td>0</td>\n",
       "      <td>8.0500</td>\n",
       "    </tr>\n",
       "  </tbody>\n",
       "</table>\n",
       "</div>"
      ],
      "text/plain": [
       "   Survived  Pclass     Sex   Age  SibSp  Parch     Fare\n",
       "0         0       3    male  22.0      1      0   7.2500\n",
       "1         1       1  female  38.0      1      0  71.2833\n",
       "2         1       3  female  26.0      0      0   7.9250\n",
       "3         1       1  female  35.0      1      0  53.1000\n",
       "4         0       3    male  35.0      0      0   8.0500"
      ]
     },
     "execution_count": 7,
     "metadata": {},
     "output_type": "execute_result"
    }
   ],
   "source": [
    "#Drop column 'Embarked'\n",
    "train_set = train_set.drop(['Embarked'], axis=1)\n",
    "test_set = test_set.drop(['Embarked'], axis=1)\n",
    "train_set.head()"
   ]
  },
  {
   "cell_type": "markdown",
   "id": "deluxe-cleveland",
   "metadata": {
    "papermill": {
     "duration": 0.024667,
     "end_time": "2021-05-23T06:40:39.542082",
     "exception": false,
     "start_time": "2021-05-23T06:40:39.517415",
     "status": "completed"
    },
    "tags": []
   },
   "source": [
    "# Cleaning the data"
   ]
  },
  {
   "cell_type": "code",
   "execution_count": 8,
   "id": "breeding-adventure",
   "metadata": {
    "execution": {
     "iopub.execute_input": "2021-05-23T06:40:39.599137Z",
     "iopub.status.busy": "2021-05-23T06:40:39.598375Z",
     "iopub.status.idle": "2021-05-23T06:40:39.962137Z",
     "shell.execute_reply": "2021-05-23T06:40:39.961528Z",
     "shell.execute_reply.started": "2021-05-23T06:37:16.046816Z"
    },
    "papermill": {
     "duration": 0.395458,
     "end_time": "2021-05-23T06:40:39.962277",
     "exception": false,
     "start_time": "2021-05-23T06:40:39.566819",
     "status": "completed"
    },
    "tags": []
   },
   "outputs": [
    {
     "data": {
      "text/html": [
       "<div>\n",
       "<style scoped>\n",
       "    .dataframe tbody tr th:only-of-type {\n",
       "        vertical-align: middle;\n",
       "    }\n",
       "\n",
       "    .dataframe tbody tr th {\n",
       "        vertical-align: top;\n",
       "    }\n",
       "\n",
       "    .dataframe thead th {\n",
       "        text-align: right;\n",
       "    }\n",
       "</style>\n",
       "<table border=\"1\" class=\"dataframe\">\n",
       "  <thead>\n",
       "    <tr style=\"text-align: right;\">\n",
       "      <th></th>\n",
       "      <th>Survived</th>\n",
       "      <th>Pclass</th>\n",
       "      <th>Sex</th>\n",
       "      <th>Age</th>\n",
       "      <th>SibSp</th>\n",
       "      <th>Parch</th>\n",
       "      <th>Fare</th>\n",
       "    </tr>\n",
       "  </thead>\n",
       "  <tbody>\n",
       "    <tr>\n",
       "      <th>0</th>\n",
       "      <td>0</td>\n",
       "      <td>3</td>\n",
       "      <td>male</td>\n",
       "      <td>22.0</td>\n",
       "      <td>1</td>\n",
       "      <td>0</td>\n",
       "      <td>7.2500</td>\n",
       "    </tr>\n",
       "    <tr>\n",
       "      <th>1</th>\n",
       "      <td>1</td>\n",
       "      <td>1</td>\n",
       "      <td>female</td>\n",
       "      <td>38.0</td>\n",
       "      <td>1</td>\n",
       "      <td>0</td>\n",
       "      <td>71.2833</td>\n",
       "    </tr>\n",
       "    <tr>\n",
       "      <th>2</th>\n",
       "      <td>1</td>\n",
       "      <td>3</td>\n",
       "      <td>female</td>\n",
       "      <td>26.0</td>\n",
       "      <td>0</td>\n",
       "      <td>0</td>\n",
       "      <td>7.9250</td>\n",
       "    </tr>\n",
       "    <tr>\n",
       "      <th>3</th>\n",
       "      <td>1</td>\n",
       "      <td>1</td>\n",
       "      <td>female</td>\n",
       "      <td>35.0</td>\n",
       "      <td>1</td>\n",
       "      <td>0</td>\n",
       "      <td>53.1000</td>\n",
       "    </tr>\n",
       "    <tr>\n",
       "      <th>4</th>\n",
       "      <td>0</td>\n",
       "      <td>3</td>\n",
       "      <td>male</td>\n",
       "      <td>35.0</td>\n",
       "      <td>0</td>\n",
       "      <td>0</td>\n",
       "      <td>8.0500</td>\n",
       "    </tr>\n",
       "  </tbody>\n",
       "</table>\n",
       "</div>"
      ],
      "text/plain": [
       "   Survived  Pclass     Sex   Age  SibSp  Parch     Fare\n",
       "0         0       3    male  22.0      1      0   7.2500\n",
       "1         1       1  female  38.0      1      0  71.2833\n",
       "2         1       3  female  26.0      0      0   7.9250\n",
       "3         1       1  female  35.0      1      0  53.1000\n",
       "4         0       3    male  35.0      0      0   8.0500"
      ]
     },
     "execution_count": 8,
     "metadata": {},
     "output_type": "execute_result"
    }
   ],
   "source": [
    "#Cleaning data\n",
    "from sklearn.impute import SimpleImputer\n",
    "\n",
    "imputer = SimpleImputer(missing_values=np.nan, strategy='mean')\n",
    "train_set['Age'] = imputer.fit_transform(train_set[['Age']])\n",
    "test_set['Age'] = imputer.fit_transform(test_set[['Age']])\n",
    "train_set['Fare'] = imputer.fit_transform(train_set[['Fare']])\n",
    "test_set['Fare'] = imputer.fit_transform(test_set[['Fare']])\n",
    "\n",
    "train_set.head()"
   ]
  },
  {
   "cell_type": "markdown",
   "id": "modified-caution",
   "metadata": {
    "papermill": {
     "duration": 0.026487,
     "end_time": "2021-05-23T06:40:40.013885",
     "exception": false,
     "start_time": "2021-05-23T06:40:39.987398",
     "status": "completed"
    },
    "tags": []
   },
   "source": [
    "**Map data**"
   ]
  },
  {
   "cell_type": "code",
   "execution_count": 9,
   "id": "august-liberal",
   "metadata": {
    "execution": {
     "iopub.execute_input": "2021-05-23T06:40:40.080860Z",
     "iopub.status.busy": "2021-05-23T06:40:40.079771Z",
     "iopub.status.idle": "2021-05-23T06:40:40.084485Z",
     "shell.execute_reply": "2021-05-23T06:40:40.084976Z",
     "shell.execute_reply.started": "2021-05-23T06:37:19.112440Z"
    },
    "papermill": {
     "duration": 0.046032,
     "end_time": "2021-05-23T06:40:40.085156",
     "exception": false,
     "start_time": "2021-05-23T06:40:40.039124",
     "status": "completed"
    },
    "tags": []
   },
   "outputs": [
    {
     "data": {
      "text/html": [
       "<div>\n",
       "<style scoped>\n",
       "    .dataframe tbody tr th:only-of-type {\n",
       "        vertical-align: middle;\n",
       "    }\n",
       "\n",
       "    .dataframe tbody tr th {\n",
       "        vertical-align: top;\n",
       "    }\n",
       "\n",
       "    .dataframe thead th {\n",
       "        text-align: right;\n",
       "    }\n",
       "</style>\n",
       "<table border=\"1\" class=\"dataframe\">\n",
       "  <thead>\n",
       "    <tr style=\"text-align: right;\">\n",
       "      <th></th>\n",
       "      <th>Survived</th>\n",
       "      <th>Pclass</th>\n",
       "      <th>Sex</th>\n",
       "      <th>Age</th>\n",
       "      <th>SibSp</th>\n",
       "      <th>Parch</th>\n",
       "      <th>Fare</th>\n",
       "    </tr>\n",
       "  </thead>\n",
       "  <tbody>\n",
       "    <tr>\n",
       "      <th>0</th>\n",
       "      <td>0</td>\n",
       "      <td>3</td>\n",
       "      <td>1</td>\n",
       "      <td>22.0</td>\n",
       "      <td>1</td>\n",
       "      <td>0</td>\n",
       "      <td>7.2500</td>\n",
       "    </tr>\n",
       "    <tr>\n",
       "      <th>1</th>\n",
       "      <td>1</td>\n",
       "      <td>1</td>\n",
       "      <td>0</td>\n",
       "      <td>38.0</td>\n",
       "      <td>1</td>\n",
       "      <td>0</td>\n",
       "      <td>71.2833</td>\n",
       "    </tr>\n",
       "    <tr>\n",
       "      <th>2</th>\n",
       "      <td>1</td>\n",
       "      <td>3</td>\n",
       "      <td>0</td>\n",
       "      <td>26.0</td>\n",
       "      <td>0</td>\n",
       "      <td>0</td>\n",
       "      <td>7.9250</td>\n",
       "    </tr>\n",
       "    <tr>\n",
       "      <th>3</th>\n",
       "      <td>1</td>\n",
       "      <td>1</td>\n",
       "      <td>0</td>\n",
       "      <td>35.0</td>\n",
       "      <td>1</td>\n",
       "      <td>0</td>\n",
       "      <td>53.1000</td>\n",
       "    </tr>\n",
       "    <tr>\n",
       "      <th>4</th>\n",
       "      <td>0</td>\n",
       "      <td>3</td>\n",
       "      <td>1</td>\n",
       "      <td>35.0</td>\n",
       "      <td>0</td>\n",
       "      <td>0</td>\n",
       "      <td>8.0500</td>\n",
       "    </tr>\n",
       "  </tbody>\n",
       "</table>\n",
       "</div>"
      ],
      "text/plain": [
       "   Survived  Pclass  Sex   Age  SibSp  Parch     Fare\n",
       "0         0       3    1  22.0      1      0   7.2500\n",
       "1         1       1    0  38.0      1      0  71.2833\n",
       "2         1       3    0  26.0      0      0   7.9250\n",
       "3         1       1    0  35.0      1      0  53.1000\n",
       "4         0       3    1  35.0      0      0   8.0500"
      ]
     },
     "execution_count": 9,
     "metadata": {},
     "output_type": "execute_result"
    }
   ],
   "source": [
    "\n",
    "train_set['Sex'] = train_set['Sex'].map({'male': 1, 'female': 0})\n",
    "test_set['Sex'] = test_set['Sex'].map({'male': 1, 'female': 0})\n",
    "train_set.head()"
   ]
  },
  {
   "cell_type": "code",
   "execution_count": 10,
   "id": "emotional-security",
   "metadata": {
    "execution": {
     "iopub.execute_input": "2021-05-23T06:40:40.145861Z",
     "iopub.status.busy": "2021-05-23T06:40:40.144723Z",
     "iopub.status.idle": "2021-05-23T06:40:40.150216Z",
     "shell.execute_reply": "2021-05-23T06:40:40.149551Z",
     "shell.execute_reply.started": "2021-05-23T06:37:21.765115Z"
    },
    "papermill": {
     "duration": 0.038847,
     "end_time": "2021-05-23T06:40:40.150356",
     "exception": false,
     "start_time": "2021-05-23T06:40:40.111509",
     "status": "completed"
    },
    "tags": []
   },
   "outputs": [
    {
     "data": {
      "text/plain": [
       "Survived    0\n",
       "Pclass      0\n",
       "Sex         0\n",
       "Age         0\n",
       "SibSp       0\n",
       "Parch       0\n",
       "Fare        0\n",
       "dtype: int64"
      ]
     },
     "execution_count": 10,
     "metadata": {},
     "output_type": "execute_result"
    }
   ],
   "source": [
    "#Check missing data again\n",
    "train_set.isnull().sum()"
   ]
  },
  {
   "cell_type": "code",
   "execution_count": 11,
   "id": "moral-monaco",
   "metadata": {
    "execution": {
     "iopub.execute_input": "2021-05-23T06:40:40.211686Z",
     "iopub.status.busy": "2021-05-23T06:40:40.210529Z",
     "iopub.status.idle": "2021-05-23T06:40:40.215811Z",
     "shell.execute_reply": "2021-05-23T06:40:40.215177Z",
     "shell.execute_reply.started": "2021-05-23T06:37:23.999525Z"
    },
    "papermill": {
     "duration": 0.039425,
     "end_time": "2021-05-23T06:40:40.215994",
     "exception": false,
     "start_time": "2021-05-23T06:40:40.176569",
     "status": "completed"
    },
    "tags": []
   },
   "outputs": [
    {
     "data": {
      "text/plain": [
       "Survived    0\n",
       "Pclass      0\n",
       "Sex         0\n",
       "Age         0\n",
       "SibSp       0\n",
       "Parch       0\n",
       "Fare        0\n",
       "dtype: int64"
      ]
     },
     "execution_count": 11,
     "metadata": {},
     "output_type": "execute_result"
    }
   ],
   "source": [
    "#Check null values again\n",
    "train_set.isnull().sum()"
   ]
  },
  {
   "cell_type": "code",
   "execution_count": 12,
   "id": "reserved-terminology",
   "metadata": {
    "execution": {
     "iopub.execute_input": "2021-05-23T06:40:40.276265Z",
     "iopub.status.busy": "2021-05-23T06:40:40.275570Z",
     "iopub.status.idle": "2021-05-23T06:40:40.279161Z",
     "shell.execute_reply": "2021-05-23T06:40:40.278636Z",
     "shell.execute_reply.started": "2021-05-23T06:37:25.943079Z"
    },
    "papermill": {
     "duration": 0.03652,
     "end_time": "2021-05-23T06:40:40.279319",
     "exception": false,
     "start_time": "2021-05-23T06:40:40.242799",
     "status": "completed"
    },
    "tags": []
   },
   "outputs": [],
   "source": [
    "#Declare\n",
    "\n",
    "x = train_set.iloc[:, 1:].values\n",
    "y = train_set.iloc[:, 0].values\n"
   ]
  },
  {
   "cell_type": "markdown",
   "id": "streaming-serbia",
   "metadata": {
    "papermill": {
     "duration": 0.026917,
     "end_time": "2021-05-23T06:40:40.332571",
     "exception": false,
     "start_time": "2021-05-23T06:40:40.305654",
     "status": "completed"
    },
    "tags": []
   },
   "source": [
    "# Training Model"
   ]
  },
  {
   "cell_type": "markdown",
   "id": "directed-yorkshire",
   "metadata": {
    "papermill": {
     "duration": 0.026117,
     "end_time": "2021-05-23T06:40:40.384631",
     "exception": false,
     "start_time": "2021-05-23T06:40:40.358514",
     "status": "completed"
    },
    "tags": []
   },
   "source": [
    "**Train Test Split**"
   ]
  },
  {
   "cell_type": "code",
   "execution_count": 13,
   "id": "nasty-spotlight",
   "metadata": {
    "execution": {
     "iopub.execute_input": "2021-05-23T06:40:40.443713Z",
     "iopub.status.busy": "2021-05-23T06:40:40.442510Z",
     "iopub.status.idle": "2021-05-23T06:40:40.447159Z",
     "shell.execute_reply": "2021-05-23T06:40:40.446578Z",
     "shell.execute_reply.started": "2021-05-23T06:37:28.359415Z"
    },
    "papermill": {
     "duration": 0.035887,
     "end_time": "2021-05-23T06:40:40.447310",
     "exception": false,
     "start_time": "2021-05-23T06:40:40.411423",
     "status": "completed"
    },
    "tags": []
   },
   "outputs": [],
   "source": [
    "from sklearn.model_selection import train_test_split\n",
    "x_train,x_test,y_train,y_test = train_test_split(x,y,test_size=0.3,random_state=0 )"
   ]
  },
  {
   "cell_type": "markdown",
   "id": "promising-handbook",
   "metadata": {
    "papermill": {
     "duration": 0.02744,
     "end_time": "2021-05-23T06:40:40.500913",
     "exception": false,
     "start_time": "2021-05-23T06:40:40.473473",
     "status": "completed"
    },
    "tags": []
   },
   "source": [
    "Optimize model with GridSearchCV"
   ]
  },
  {
   "cell_type": "code",
   "execution_count": 14,
   "id": "sustained-mystery",
   "metadata": {
    "execution": {
     "iopub.execute_input": "2021-05-23T06:40:40.568536Z",
     "iopub.status.busy": "2021-05-23T06:40:40.567753Z",
     "iopub.status.idle": "2021-05-23T06:40:40.921070Z",
     "shell.execute_reply": "2021-05-23T06:40:40.920389Z",
     "shell.execute_reply.started": "2021-05-23T06:37:40.019048Z"
    },
    "papermill": {
     "duration": 0.394244,
     "end_time": "2021-05-23T06:40:40.921221",
     "exception": false,
     "start_time": "2021-05-23T06:40:40.526977",
     "status": "completed"
    },
    "tags": []
   },
   "outputs": [
    {
     "name": "stdout",
     "output_type": "stream",
     "text": [
      "Logistic Regression\n",
      "[[142  26]\n",
      " [ 27  73]]\n",
      "Train accuracy is 0.7881219903691814\n",
      "Test accuracy is 0.8022388059701493\n",
      "\n",
      " Decision Tree\n",
      "[[138  30]\n",
      " [ 33  67]]\n",
      "Train accuracy is 0.9791332263242376\n",
      "Test accuracy is 0.7649253731343284\n",
      "\n",
      " Naive Bayes\n",
      "[[138  30]\n",
      " [ 28  72]]\n",
      "Train accuracy is 0.7929373996789727\n",
      "Test accuracy is 0.7835820895522388\n",
      "\n",
      " Random Forest\n",
      "[[149  19]\n",
      " [ 31  69]]\n",
      "Train accuracy is 0.8443017656500803\n",
      "Test accuracy is 0.8134328358208955\n"
     ]
    }
   ],
   "source": [
    "#Train model with Logistic Regression\n",
    "from sklearn.linear_model import LogisticRegression\n",
    "from sklearn import tree\n",
    "from sklearn.naive_bayes import GaussianNB\n",
    "from sklearn.ensemble import RandomForestClassifier\n",
    "from sklearn.metrics import confusion_matrix, accuracy_score\n",
    "\n",
    "def logisticregression(train,test):\n",
    " model = LogisticRegression(random_state=0).fit(train, y_train)\n",
    " y_train_pred = model.predict(train)\n",
    " y_test_pred = model.predict(test) \n",
    " train_score = accuracy_score(y_train, y_train_pred)\n",
    " test_score = accuracy_score(y_test, y_test_pred)\n",
    " matrix = confusion_matrix(y_test, y_test_pred)\n",
    " print('Logistic Regression')\n",
    " print(matrix)\n",
    " print('Train accuracy is',train_score )\n",
    " print('Test accuracy is',test_score )\n",
    "\n",
    "    \n",
    "def decisiontree(train,test):\n",
    " model = tree.DecisionTreeClassifier(criterion = 'entropy')\n",
    " model = model.fit(train,y_train)\n",
    " y_train_pred = model.predict(train)\n",
    " y_test_pred = model.predict(test)\n",
    " train_score = accuracy_score(y_train , y_train_pred)\n",
    " test_score = accuracy_score(y_test, y_test_pred)\n",
    " matrix = confusion_matrix(y_test, y_test_pred)\n",
    " print('\\n','Decision Tree')\n",
    " print(matrix)\n",
    " print('Train accuracy is',train_score )\n",
    " print('Test accuracy is',test_score )\n",
    "    \n",
    "def naivebays(train,test):\n",
    " model = GaussianNB()\n",
    " model = model.fit(train,y_train)\n",
    " y_train_pred = model.predict(train)\n",
    " y_test_pred = model.predict(test)\n",
    " train_score = accuracy_score(y_train , y_train_pred)\n",
    " test_score = accuracy_score(y_test, y_test_pred)\n",
    " matrix = confusion_matrix(y_test, y_test_pred)\n",
    " print('\\n','Naive Bayes')\n",
    " print(matrix)\n",
    " print('Train accuracy is',train_score )\n",
    " print('Test accuracy is',test_score )    \n",
    "    \n",
    "def randomforest(train,test):\n",
    " model = RandomForestClassifier(n_estimators=100,max_depth=4,criterion='gini')\n",
    " model = model.fit(train,y_train)\n",
    " y_train_pred = model.predict(train)\n",
    " y_test_pred = model.predict(test)\n",
    " train_score = accuracy_score(y_train , y_train_pred)\n",
    " test_score = accuracy_score(y_test, y_test_pred)\n",
    " matrix = confusion_matrix(y_test, y_test_pred)\n",
    " print('\\n','Random Forest')\n",
    " print(matrix)\n",
    " print('Train accuracy is',train_score )\n",
    " print('Test accuracy is',test_score )   \n",
    "\n",
    "\n",
    "logisticregression(x_train,x_test)\n",
    "decisiontree(x_train,x_test)\n",
    "naivebays(x_train,x_test)  \n",
    "randomforest(x_train,x_test)\n",
    "\n",
    "\n",
    "\n"
   ]
  },
  {
   "cell_type": "markdown",
   "id": "intermediate-entity",
   "metadata": {
    "papermill": {
     "duration": 0.026981,
     "end_time": "2021-05-23T06:40:40.976151",
     "exception": false,
     "start_time": "2021-05-23T06:40:40.949170",
     "status": "completed"
    },
    "tags": []
   },
   "source": [
    "Then use RandomForestClassifier to predict."
   ]
  },
  {
   "cell_type": "code",
   "execution_count": 15,
   "id": "noticed-memphis",
   "metadata": {
    "execution": {
     "iopub.execute_input": "2021-05-23T06:40:41.051092Z",
     "iopub.status.busy": "2021-05-23T06:40:41.040306Z",
     "iopub.status.idle": "2021-05-23T06:40:41.260093Z",
     "shell.execute_reply": "2021-05-23T06:40:41.259379Z",
     "shell.execute_reply.started": "2021-05-23T06:40:06.677506Z"
    },
    "papermill": {
     "duration": 0.256592,
     "end_time": "2021-05-23T06:40:41.260238",
     "exception": false,
     "start_time": "2021-05-23T06:40:41.003646",
     "status": "completed"
    },
    "tags": []
   },
   "outputs": [],
   "source": [
    "clf =  RandomForestClassifier(n_estimators=100,max_depth=4,criterion='gini')\n",
    "clf = clf.fit(x_train,y_train)\n",
    "y_pred = clf.predict(test_set.iloc[:, 0:].values)\n",
    "submission = pd.DataFrame({'PassengerId': ID, 'Survived': y_pred})\n",
    "submission.to_csv('submission.csv',index=False)"
   ]
  }
 ],
 "metadata": {
  "kernelspec": {
   "display_name": "Python 3",
   "language": "python",
   "name": "python3"
  },
  "language_info": {
   "codemirror_mode": {
    "name": "ipython",
    "version": 3
   },
   "file_extension": ".py",
   "mimetype": "text/x-python",
   "name": "python",
   "nbconvert_exporter": "python",
   "pygments_lexer": "ipython3",
   "version": "3.7.9"
  },
  "papermill": {
   "default_parameters": {},
   "duration": 13.018886,
   "end_time": "2021-05-23T06:40:42.000356",
   "environment_variables": {},
   "exception": null,
   "input_path": "__notebook__.ipynb",
   "output_path": "__notebook__.ipynb",
   "parameters": {},
   "start_time": "2021-05-23T06:40:28.981470",
   "version": "2.3.2"
  }
 },
 "nbformat": 4,
 "nbformat_minor": 5
}
